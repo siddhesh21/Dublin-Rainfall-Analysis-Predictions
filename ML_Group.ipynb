{
 "cells": [
  {
   "cell_type": "code",
   "execution_count": 3,
   "metadata": {},
   "outputs": [
    {
     "name": "stdout",
     "output_type": "stream",
     "text": [
      "Deleted previous CSV file.\n",
      "Downloading latest CSV file.\n",
      "Dataset Downloaded\n"
     ]
    }
   ],
   "source": [
    "import os\n",
    "def checkLatestVersion():\n",
    "    if(os.path.exists(\"./dly532.csv\")):\n",
    "        os.remove(\"./dly532.csv\")\n",
    "        print(\"Deleted previous CSV file.\")\n",
    "        print(\"Downloading latest CSV file.\")\n",
    "        os.system(\"wget https://cli.fusio.net/cli/climate_data/webdata/dly532.csv\")\n",
    "    else:\n",
    "        print(\"Downloading dataset.\")\n",
    "        os.system(\"wget https://cli.fusio.net/cli/climate_data/webdata/dly532.csv\")\n",
    "    return None\n",
    "checkLatestVersion()\n",
    "print(\"Dataset Downloaded\")"
   ]
  },
  {
   "cell_type": "code",
   "execution_count": null,
   "metadata": {},
   "outputs": [],
   "source": []
  }
 ],
 "metadata": {
  "kernelspec": {
   "display_name": "Python",
   "language": "python",
   "name": "conda-env-python-py"
  },
  "language_info": {
   "codemirror_mode": {
    "name": "ipython",
    "version": 3
   },
   "file_extension": ".py",
   "mimetype": "text/x-python",
   "name": "python",
   "nbconvert_exporter": "python",
   "pygments_lexer": "ipython3",
   "version": "3.6.11"
  }
 },
 "nbformat": 4,
 "nbformat_minor": 4
}
